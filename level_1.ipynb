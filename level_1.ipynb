{
 "cells": [
  {
   "cell_type": "code",
   "execution_count": null,
   "metadata": {},
   "outputs": [],
   "source": [
    "import math\n",
    "\n",
    "ch=int(input(\"enter operation: \\n1.addition\\n2.subtraction\\n3.multiplication\\n4.division\\n\"))\n",
    "#print(ch)\n",
    "num1=float(input('enter first number: '))\n",
    "num2=float(input('enter second number: '))\n",
    "\n",
    "op={1:num1+num2,2:num1-num2,3:num1*num2,4:num1/num2}\n",
    "sym={1:'+',2:'-',3:'*',4:'/'}\n",
    "\n",
    "print(num1,sym[ch],num2,'=',op[ch])\n",
    "\n",
    "del num1,num2,ch,op,sym\n",
    "\n",
    "    "
   ]
  },
  {
   "cell_type": "code",
   "execution_count": null,
   "metadata": {},
   "outputs": [],
   "source": [
    "import math\n",
    "\n",
    "n=int(input('number of numbers: '))\n",
    "sum=0\n",
    "avg=0\n",
    "num=0\n",
    "for i in range(0,n):\n",
    "    num=int(input('Enter number: '))\n",
    "    sum+=num\n",
    "    del num\n",
    "print('sum: ',sum)\n",
    "avg=sum/n\n",
    "print('average: ',avg)\n",
    "print('root mean square: ',math.sqrt(avg))\n",
    "\n",
    "del n,sum,avg,i"
   ]
  },
  {
   "cell_type": "code",
   "execution_count": 5,
   "metadata": {
    "scrolled": false
   },
   "outputs": [
    {
     "name": "stdout",
     "output_type": "stream",
     "text": [
      "enter number of rows: 10\n",
      "1 \n",
      "\n",
      "1 1 \n",
      "\n",
      "1 2 1 \n",
      "\n",
      "1 3 3 1 \n",
      "\n",
      "1 4 6 4 1 \n",
      "\n",
      "1 5 10 10 5 1 \n",
      "\n",
      "1 6 15 20 15 6 1 \n",
      "\n",
      "1 7 21 35 35 21 7 1 \n",
      "\n",
      "1 8 28 56 70 56 28 8 1 \n",
      "\n",
      "1 9 36 84 126 126 84 36 9 1 \n",
      "\n"
     ]
    }
   ],
   "source": [
    "import math\n",
    "\n",
    "row=int(input('enter number of rows: '))\n",
    "for i in range(0,row):\n",
    "    #print(i)\n",
    "    for c in range(0,i+1):\n",
    "       # print(c)\n",
    "       # print(' '*int((row/2)),end=\" \")\n",
    "        print(int((math.factorial(i))/(math.factorial(c)*math.factorial(i-c))),end=\" \")\n",
    "        #print(\"\\t\") \n",
    "    print(\"\\n\")\n",
    "del row,i,c\n",
    "    \n"
   ]
  },
  {
   "cell_type": "code",
   "execution_count": null,
   "metadata": {},
   "outputs": [],
   "source": [
    "import time\n",
    "while True:\n",
    "    print('Khalid is awesome')\n",
    "    time.sleep(1)"
   ]
  },
  {
   "cell_type": "code",
   "execution_count": 8,
   "metadata": {},
   "outputs": [
    {
     "name": "stdout",
     "output_type": "stream",
     "text": [
      "Enter string: akash\n"
     ]
    },
    {
     "ename": "TypeError",
     "evalue": "'map' object is not callable",
     "output_type": "error",
     "traceback": [
      "\u001b[1;31m---------------------------------------------------------------------------\u001b[0m",
      "\u001b[1;31mTypeError\u001b[0m                                 Traceback (most recent call last)",
      "\u001b[1;32m<ipython-input-8-c4cb37f4270c>\u001b[0m in \u001b[0;36m<module>\u001b[1;34m\u001b[0m\n\u001b[0;32m      4\u001b[0m \u001b[1;33m\u001b[0m\u001b[0m\n\u001b[0;32m      5\u001b[0m \u001b[1;31m#print(n)\u001b[0m\u001b[1;33m\u001b[0m\u001b[1;33m\u001b[0m\u001b[1;33m\u001b[0m\u001b[0m\n\u001b[1;32m----> 6\u001b[1;33m \u001b[0mprint\u001b[0m\u001b[1;33m(\u001b[0m\u001b[0ms\u001b[0m\u001b[1;33m(\u001b[0m\u001b[1;36m0\u001b[0m\u001b[1;33m)\u001b[0m\u001b[1;33m)\u001b[0m\u001b[1;33m\u001b[0m\u001b[1;33m\u001b[0m\u001b[0m\n\u001b[0m\u001b[0;32m      7\u001b[0m \u001b[1;31m#print(s,s.split(','),s.strip())\u001b[0m\u001b[1;33m\u001b[0m\u001b[1;33m\u001b[0m\u001b[1;33m\u001b[0m\u001b[0m\n\u001b[0;32m      8\u001b[0m \u001b[1;32mdel\u001b[0m \u001b[0ms\u001b[0m\u001b[1;33m,\u001b[0m\u001b[0mn\u001b[0m\u001b[1;33m\u001b[0m\u001b[1;33m\u001b[0m\u001b[0m\n",
      "\u001b[1;31mTypeError\u001b[0m: 'map' object is not callable"
     ]
    }
   ],
   "source": [
    "\n",
    "s=input(\"Enter string: \")\n",
    "n=len(s)\n",
    "s=map(str,s.split(\",\"))\n",
    "\n",
    "#print(n)\n",
    "print(s(0))\n",
    "#print(s,s.split(','),s.strip())\n",
    "del s,n"
   ]
  },
  {
   "cell_type": "code",
   "execution_count": 15,
   "metadata": {},
   "outputs": [
    {
     "name": "stdout",
     "output_type": "stream",
     "text": [
      "Enter string: akash al khalid\n",
      "AKASH AL KHALID \n",
      " akash al khalid \n",
      " Akash Al Khalid \n",
      " Akash al khalid\n"
     ]
    }
   ],
   "source": [
    "s=input('Enter string: ')\n",
    "print(s.upper(),\"\\n\",s.lower(),\"\\n\",s.title(),\"\\n\",s.capitalize())"
   ]
  },
  {
   "cell_type": "code",
   "execution_count": null,
   "metadata": {},
   "outputs": [],
   "source": []
  },
  {
   "cell_type": "code",
   "execution_count": null,
   "metadata": {},
   "outputs": [],
   "source": []
  },
  {
   "cell_type": "code",
   "execution_count": null,
   "metadata": {},
   "outputs": [],
   "source": []
  },
  {
   "cell_type": "code",
   "execution_count": null,
   "metadata": {},
   "outputs": [],
   "source": []
  }
 ],
 "metadata": {
  "kernelspec": {
   "display_name": "Python 3",
   "language": "python",
   "name": "python3"
  },
  "language_info": {
   "codemirror_mode": {
    "name": "ipython",
    "version": 3
   },
   "file_extension": ".py",
   "mimetype": "text/x-python",
   "name": "python",
   "nbconvert_exporter": "python",
   "pygments_lexer": "ipython3",
   "version": "3.7.1"
  }
 },
 "nbformat": 4,
 "nbformat_minor": 2
}
