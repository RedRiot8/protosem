{
 "cells": [
  {
   "cell_type": "code",
   "execution_count": null,
   "metadata": {},
   "outputs": [],
   "source": [
    "import csv\n",
    "from random import randint as rand\n",
    "import os\n",
    "\n",
    "fields=['#','Num1','Num2','Num3','Num4','Num5']\n",
    "\n",
    "with open(\"file.csv\",\"w\")as file:\n",
    "   writer=csv.writer(file)\n",
    "   writer.writerow(fields)\n",
    "   for i in range(0,10):\n",
    "       p=[]\n",
    "       p.append(i+1)\n",
    "       for j in range(0,5):\n",
    "           p.append(rand(0,100))\n",
    "       print(p)\n",
    "       writer.writerow(p)\n",
    "       #del p"
   ]
  }
 ],
 "metadata": {
  "kernelspec": {
   "display_name": "Python 3",
   "language": "python",
   "name": "python3"
  },
  "language_info": {
   "codemirror_mode": {
    "name": "ipython",
    "version": 3
   },
   "file_extension": ".py",
   "mimetype": "text/x-python",
   "name": "python",
   "nbconvert_exporter": "python",
   "pygments_lexer": "ipython3",
   "version": "3.7.1"
  }
 },
 "nbformat": 4,
 "nbformat_minor": 2
}
